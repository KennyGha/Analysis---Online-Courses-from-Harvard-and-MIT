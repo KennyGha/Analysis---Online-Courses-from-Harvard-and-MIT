{
 "cells": [
  {
   "cell_type": "code",
   "execution_count": 18,
   "metadata": {
    "nbpresent": {
     "id": "d77dd8e7-6096-4511-991a-89e4c967fcaa"
    }
   },
   "outputs": [],
   "source": [
    "#import shelve\n",
    "#filename='Hk01Save_28Apri2018.out'\n",
    "#my_shelf = shelve.open(filename,'n') # 'n' for new"
   ]
  },
  {
   "cell_type": "code",
   "execution_count": 173,
   "metadata": {
    "nbpresent": {
     "id": "e301ae3f-ef16-48bd-a7a3-3338a9a0cd83"
    }
   },
   "outputs": [],
   "source": [
    "import pandas as pd\n",
    "import numpy as np\n",
    "import matplotlib.pyplot as plt\n",
    "import warnings\n",
    "warnings.filterwarnings(\"ignore\")\n",
    "pd.set_option('display.max_columns', None)\n",
    "import jieba\n",
    "import jieba.posseg\n",
    "import jieba.analyse"
   ]
  },
  {
   "cell_type": "markdown",
   "metadata": {
    "nbpresent": {
     "id": "7f521dcf-e981-4386-be77-16ccdd0391bd"
    }
   },
   "source": [
    "### Data PreProcessing"
   ]
  },
  {
   "cell_type": "code",
   "execution_count": 174,
   "metadata": {
    "nbpresent": {
     "id": "05f2b44b-a9ae-4466-88c1-86f8ae87721c"
    }
   },
   "outputs": [],
   "source": [
    "data = pd.read_csv('offsite-tagging-training-set (1).csv')\n",
    "test = pd.read_csv('offsite-tagging-test-set (1).csv')\n",
    "#Read Stop Word\n",
    "with open('stopword.txt', 'r') as f:\n",
    "    stopword = []\n",
    "    for item in f:\n",
    "        stopword.append(item)"
   ]
  },
  {
   "cell_type": "code",
   "execution_count": 175,
   "metadata": {
    "nbpresent": {
     "id": "4307b4cf-52b3-4fad-9d4d-32beea2db776"
    }
   },
   "outputs": [
    {
     "data": {
      "text/plain": [
       "(tags\n",
       " 梁振英      929\n",
       " 美國大選     842\n",
       " 足球      2123\n",
       " Name: id, dtype: int64, tags\n",
       " 梁振英     0.238572\n",
       " 美國大選    0.216230\n",
       " 足球      0.545198\n",
       " Name: id, dtype: float64)"
      ]
     },
     "execution_count": 175,
     "metadata": {},
     "output_type": "execute_result"
    }
   ],
   "source": [
    "# Check Class Imbalance\n",
    "# It seems ok, will check the result if imbalance does exist \n",
    "\n",
    "data.groupby('tags')['id'].nunique(), data.groupby('tags')['id'].nunique()/data.shape[0]"
   ]
  },
  {
   "cell_type": "code",
   "execution_count": 176,
   "metadata": {
    "nbpresent": {
     "id": "15f119a3-4747-4bde-9a59-5ba93c1a50e7"
    }
   },
   "outputs": [],
   "source": [
    "# Combine file first and will be separate later on\n",
    "data['type']=1\n",
    "test['type']=0"
   ]
  },
  {
   "cell_type": "code",
   "execution_count": 177,
   "metadata": {
    "nbpresent": {
     "id": "234c3138-2544-44ef-938c-acb13faaca7d"
    }
   },
   "outputs": [
    {
     "data": {
      "text/plain": [
       "((3894, 4), (974, 4))"
      ]
     },
     "execution_count": 177,
     "metadata": {},
     "output_type": "execute_result"
    }
   ],
   "source": [
    "# Check Shape\n",
    "data.shape,test.shape"
   ]
  },
  {
   "cell_type": "code",
   "execution_count": 178,
   "metadata": {
    "nbpresent": {
     "id": "69cc2ba1-f14a-494c-bdf2-537f20d8b337"
    }
   },
   "outputs": [],
   "source": [
    "# Merge\n",
    "datacon = pd.concat([data,test])"
   ]
  },
  {
   "cell_type": "code",
   "execution_count": 179,
   "metadata": {
    "nbpresent": {
     "id": "d3c8ab59-5848-4d34-a16f-99d26c1a22fd"
    }
   },
   "outputs": [],
   "source": [
    "#Remove HTML-Tag data\n",
    "def cleanhtmltag(sentence): \n",
    "    clean = re.compile('<.*?>')\n",
    "    cleantext = re.sub(clean, ' ', sentence)\n",
    "    return cleantext"
   ]
  },
  {
   "cell_type": "code",
   "execution_count": 180,
   "metadata": {
    "nbpresent": {
     "id": "be4f3d06-95b1-44f5-be08-3175428141e9"
    }
   },
   "outputs": [],
   "source": [
    "#Remove punctuation\n",
    "def cleanpunc(sentence):\n",
    "    cleaned = re.sub(r'[?|!|\\'|\"|#]',r'',sentence)\n",
    "    cleaned = re.sub(r'[.|,|（|）|。|」|「|【|】|\\'|，|)|(|\\|/]',r' ',cleaned)\n",
    "    cleaned =re.sub('[\\s+]', '', cleaned)#space\n",
    "    return  cleaned"
   ]
  },
  {
   "cell_type": "code",
   "execution_count": 181,
   "metadata": {
    "nbpresent": {
     "id": "aa34c5c8-e2a7-4047-9c1d-922b15d0ce39"
    }
   },
   "outputs": [],
   "source": [
    "#Clear Text\n",
    "import re\n",
    "final_string=[]\n",
    "str1=' '\n",
    "i=0\n",
    "s=' '\n",
    "\n",
    "for sent in datacon['text'].values:\n",
    "    filtered_sentence=[]\n",
    "    #print(sent);\n",
    "    sent=cleanhtmltag(sent) # remove HTMl tags\n",
    "    for w in sent.split():\n",
    "        for cleaned_words in cleanpunc(w).split():\n",
    "            if(cleaned_words not in stopword):\n",
    "                filtered_sentence.append(cleaned_words)\n",
    "            else:\n",
    "                continue \n",
    "    #print('-----------------------------------------------')\n",
    "    #print(filtered_sentence)\n",
    "    str1 = s.join(filtered_sentence)\n",
    "    #print(str1)\n",
    "    final_string.append(str1)\n",
    "    i+=1"
   ]
  },
  {
   "cell_type": "code",
   "execution_count": 182,
   "metadata": {
    "nbpresent": {
     "id": "0a5f9c74-dec5-4732-be57-93068b70d70c"
    }
   },
   "outputs": [],
   "source": [
    "datacon['ClearText'] = final_string"
   ]
  },
  {
   "cell_type": "code",
   "execution_count": 183,
   "metadata": {
    "nbpresent": {
     "id": "1115a9c5-57a6-4a5f-a2d2-2a1e9887c82d"
    }
   },
   "outputs": [],
   "source": [
    "# Tokenization with different methodology - jieba.analyse.extract_tags and TextRank\n",
    "import jieba.analyse\n",
    "tokenTextET =[]\n",
    "tokenTextRK=[]\n",
    "\n",
    "tfidf = jieba.analyse.extract_tags\n",
    "textrank = jieba.analyse.textrank\n",
    "\n",
    "for i in datacon['ClearText']:\n",
    "    tagsET = jieba.analyse.extract_tags(i, topK=100 )#,withWeight=True)\n",
    "    tagsET = ' '.join(tagsET)\n",
    "    tokenTextET.append(tagsET)\n",
    "     \n",
    "#    tagsRK  = textrank(i)\n",
    "#    tagsRK = ' '.join(tagsRK)\n",
    "#    tokenTextRK.append(tagsRK)"
   ]
  },
  {
   "cell_type": "code",
   "execution_count": 184,
   "metadata": {
    "nbpresent": {
     "id": "311b61d1-52e8-4e79-b900-5b03b381a236"
    }
   },
   "outputs": [],
   "source": [
    "datacon['tokenTextET'] = tokenTextET\n",
    "#datacon['tokenTextTO'] = tokenTextRK"
   ]
  },
  {
   "cell_type": "code",
   "execution_count": 185,
   "metadata": {
    "nbpresent": {
     "id": "9e915484-a802-4cb7-84ef-ff503c9ff408"
    }
   },
   "outputs": [
    {
     "data": {
      "text/html": [
       "<div>\n",
       "<style scoped>\n",
       "    .dataframe tbody tr th:only-of-type {\n",
       "        vertical-align: middle;\n",
       "    }\n",
       "\n",
       "    .dataframe tbody tr th {\n",
       "        vertical-align: top;\n",
       "    }\n",
       "\n",
       "    .dataframe thead th {\n",
       "        text-align: right;\n",
       "    }\n",
       "</style>\n",
       "<table border=\"1\" class=\"dataframe\">\n",
       "  <thead>\n",
       "    <tr style=\"text-align: right;\">\n",
       "      <th></th>\n",
       "      <th>id</th>\n",
       "      <th>tags</th>\n",
       "      <th>text</th>\n",
       "      <th>type</th>\n",
       "      <th>ClearText</th>\n",
       "      <th>tokenTextET</th>\n",
       "    </tr>\n",
       "  </thead>\n",
       "  <tbody>\n",
       "    <tr>\n",
       "      <th>0</th>\n",
       "      <td>3443</td>\n",
       "      <td>足球</td>\n",
       "      <td>利物浦重賽擊敗乙組仔　英足盃過關 英格蘭足總盃第三圈今晨重賽，貴為英超勁旅的利物浦上場被乙組...</td>\n",
       "      <td>1</td>\n",
       "      <td>利物浦重賽擊敗乙組仔 英足盃過關 英格蘭足總盃第三圈今晨重賽貴為英超勁旅的利物浦上場被乙組仔...</td>\n",
       "      <td>第三圈 對手 擊敗 組仔 重賽 利物浦 埃克斯 迪西 舒爾奧祖及 上場 尷尬 主場 回勇 開...</td>\n",
       "    </tr>\n",
       "  </tbody>\n",
       "</table>\n",
       "</div>"
      ],
      "text/plain": [
       "     id tags                                               text  type  \\\n",
       "0  3443   足球  利物浦重賽擊敗乙組仔　英足盃過關 英格蘭足總盃第三圈今晨重賽，貴為英超勁旅的利物浦上場被乙組...     1   \n",
       "\n",
       "                                           ClearText  \\\n",
       "0  利物浦重賽擊敗乙組仔 英足盃過關 英格蘭足總盃第三圈今晨重賽貴為英超勁旅的利物浦上場被乙組仔...   \n",
       "\n",
       "                                         tokenTextET  \n",
       "0  第三圈 對手 擊敗 組仔 重賽 利物浦 埃克斯 迪西 舒爾奧祖及 上場 尷尬 主場 回勇 開...  "
      ]
     },
     "execution_count": 185,
     "metadata": {},
     "output_type": "execute_result"
    }
   ],
   "source": [
    "datacon.head(1)"
   ]
  },
  {
   "cell_type": "code",
   "execution_count": 186,
   "metadata": {
    "nbpresent": {
     "id": "f2836e34-95b4-4871-a4a4-77ae613e70cd"
    }
   },
   "outputs": [],
   "source": [
    "#Separate dataset\n",
    "test =datacon[datacon['type']==0]\n",
    "data=datacon[datacon['type']==1]"
   ]
  },
  {
   "cell_type": "code",
   "execution_count": 187,
   "metadata": {
    "nbpresent": {
     "id": "8a46afdf-8ba1-4f89-be24-c171aa7fac2b"
    }
   },
   "outputs": [],
   "source": [
    "# tdidf\n",
    "from sklearn.feature_extraction.text import TfidfVectorizer, CountVectorizer\n",
    "from sklearn.feature_extraction.text import TfidfTransformer\n",
    "\n",
    "vectorizer=CountVectorizer()\n",
    "transformer=TfidfTransformer()\n",
    "tfidf = TfidfVectorizer()\n",
    "\n",
    "dataRkET= transformer.fit_transform(vectorizer.fit_transform(data['tokenTextET']))\n",
    "dataRkETword=vectorizer.get_feature_names()\n",
    "dataRkETweight=dataRkET.toarray()\n",
    "\n",
    "testRkET=transformer.transform(vectorizer.transform(test['tokenTextET']))\n",
    "#testRk = tfidf.fit_transform(test['ClearText']) \n",
    "testRkETword=vectorizer.get_feature_names()\n",
    "testRkETweight=testRkET.toarray()\n",
    "\n",
    "#dataRK= transformer.fit_transform(vectorizer.fit_transform(data['tokenTextTO']))\n",
    "#dataRkword=vectorizer.get_feature_names()\n",
    "#dataRkweight=dataRK.toarray()\n",
    "\n",
    "#testRK= transformer.transform(vectorizer.fit_transform(data['tokenTextTO']))\n",
    "#testRkETword=vectorizer.get_feature_names()\n",
    "#testRkETweight=testRK.toarray()"
   ]
  },
  {
   "cell_type": "code",
   "execution_count": 188,
   "metadata": {
    "nbpresent": {
     "id": "fb82d5f3-5751-416a-b63f-229787da5129"
    }
   },
   "outputs": [],
   "source": [
    "my_shelf.close()"
   ]
  },
  {
   "cell_type": "markdown",
   "metadata": {},
   "source": [
    "#To restore\n",
    "import shelve\n",
    "filename='Hk01Save_28Apri2018.out'\n",
    "my_shelf = shelve.open(filename)\n",
    "for key in my_shelf:\n",
    "    globals()[key]=my_shelf[key]\n",
    "my_shelf.close()"
   ]
  },
  {
   "cell_type": "code",
   "execution_count": 189,
   "metadata": {
    "nbpresent": {
     "id": "026308a6-d1b7-4221-abd8-88cb3434a299"
    }
   },
   "outputs": [],
   "source": [
    "# Replace Tags to numberic number \n",
    "from sklearn.preprocessing import LabelEncoder\n",
    "le = LabelEncoder()\n",
    "train_label = le.fit_transform(data['tags'])\n",
    "test_label = le.transform(test['tags'])"
   ]
  },
  {
   "cell_type": "code",
   "execution_count": 190,
   "metadata": {
    "nbpresent": {
     "id": "dbf8c709-df88-4565-8851-a00536c7df92"
    }
   },
   "outputs": [
    {
     "name": "stdout",
     "output_type": "stream",
     "text": [
      " : Explained variance of the SVD step: 87%\n",
      " : Explained variance of the SVD step: 87%\n"
     ]
    }
   ],
   "source": [
    "# Dimension reduction for jieba.analyse.extract_tags\n",
    "from sklearn import preprocessing\n",
    "from sklearn.decomposition import TruncatedSVD\n",
    "\n",
    "svd = TruncatedSVD(n_components=3000, n_iter=25, random_state=1234)\n",
    "dataRktd= svd.fit_transform(dataRkET)\n",
    "explained_variance = svd.explained_variance_ratio_.sum()\n",
    "print(\" : Explained variance of the SVD step: {}%\".format(int(explained_variance * 100)))\n",
    "   \n",
    "testRktd= svd.transform(testRkET)\n",
    "explained_variance = svd.explained_variance_ratio_.sum()\n",
    "print(\" : Explained variance of the SVD step: {}%\".format(int(explained_variance * 100))) "
   ]
  },
  {
   "cell_type": "code",
   "execution_count": 191,
   "metadata": {
    "nbpresent": {
     "id": "a409a323-ec1d-43b3-a044-d453b6cc6622"
    }
   },
   "outputs": [],
   "source": [
    "# Dimension reduction for jieba textrank\n",
    "#svdrk = TruncatedSVD(n_components=3000, n_iter=25, random_state=1234)\n",
    "#dataRktr= svdrk.fit_transform(dataRK)\n",
    "#explained_variance = svdrk.explained_variance_ratio_.sum()\n",
    "#print(\" : Explained variance of the SVD step: {}%\".format(int(explained_variance * 100)))\n",
    "   \n",
    "#testRktr= svdrk.transform(testRK)\n",
    "#explained_variance = svdrk.explained_variance_ratio_.sum()\n",
    "#print(\" : Explained variance of the SVD step: {}%\".format(int(explained_variance * 100))) "
   ]
  },
  {
   "cell_type": "markdown",
   "metadata": {
    "nbpresent": {
     "id": "a1dd8c38-67fa-4347-a1e7-79f3c6e729f2"
    }
   },
   "source": [
    "### XGBoost Training for jieba.analyse.extract_tags - dataRktd and testRktd"
   ]
  },
  {
   "cell_type": "code",
   "execution_count": 192,
   "metadata": {
    "nbpresent": {
     "id": "46c98e56-646c-48ac-8331-07f2efb3fea0"
    }
   },
   "outputs": [],
   "source": [
    "Y_train=data['tags']\n",
    "Y_valid=test['tags']"
   ]
  },
  {
   "cell_type": "code",
   "execution_count": 193,
   "metadata": {
    "nbpresent": {
     "id": "2d67f357-150a-49dd-ae60-0218d236b086"
    },
    "scrolled": true
   },
   "outputs": [],
   "source": [
    "# Split data for validation\n",
    "from sklearn.model_selection import train_test_split\n",
    "X_train, X_test, y_train, y_test = train_test_split(dataRktd, Y_train, test_size=0.3)"
   ]
  },
  {
   "cell_type": "code",
   "execution_count": 194,
   "metadata": {
    "nbpresent": {
     "id": "464f6c8f-085c-408b-958f-51e4f351217c"
    }
   },
   "outputs": [
    {
     "data": {
      "text/plain": [
       "XGBClassifier(base_score=0.5, colsample_bylevel=1, colsample_bytree=0.9,\n",
       "       gamma=0.75, learning_rate=0.2, max_delta_step=0, max_depth=11,\n",
       "       min_child_weight=14, missing=None, n_estimators=100, nthread=-1,\n",
       "       objective='multi:softprob', reg_alpha=0, reg_lambda=1,\n",
       "       scale_pos_weight=1, seed=1234, silent=True, subsample=0.8)"
      ]
     },
     "execution_count": 194,
     "metadata": {},
     "output_type": "execute_result"
    }
   ],
   "source": [
    "import xgboost as xgb\n",
    "from xgboost import XGBClassifier  \n",
    "model_xgbt = XGBClassifier(\n",
    " colsample_bytree=0.9,\n",
    " gamma=0.75  ,\n",
    " max_depth=11,   \n",
    " learning_rate=0.2, \n",
    " nthread =-1,\n",
    " subsample=0.8,\n",
    " min_child_weight=14,   \n",
    " seed=1234,\n",
    " n_estimators=100\n",
    ")\n",
    "model_xgbt.fit(X_train,y_train,eval_metric='auc')   "
   ]
  },
  {
   "cell_type": "code",
   "execution_count": 195,
   "metadata": {
    "nbpresent": {
     "id": "e7b08a10-1469-49e5-99b7-cc660095435c"
    },
    "scrolled": true
   },
   "outputs": [
    {
     "name": "stdout",
     "output_type": "stream",
     "text": [
      "Accuracy : 0.9923\n"
     ]
    }
   ],
   "source": [
    "from sklearn import metrics  \n",
    "y_true, y_pred = y_test, model_xgbt.predict(X_test)  \n",
    "print (\"Accuracy : %.4g\" % metrics.accuracy_score(y_true, y_pred)  )"
   ]
  },
  {
   "cell_type": "code",
   "execution_count": 196,
   "metadata": {
    "nbpresent": {
     "id": "553edebf-9e0a-4f23-b87c-da2a11a4b165"
    }
   },
   "outputs": [
    {
     "name": "stdout",
     "output_type": "stream",
     "text": [
      "             precision    recall  f1-score   support\n",
      "\n",
      "        梁振英       1.00      0.98      0.99       261\n",
      "       美國大選       1.00      0.99      0.99       249\n",
      "         足球       0.99      1.00      0.99       659\n",
      "\n",
      "avg / total       0.99      0.99      0.99      1169\n",
      "\n"
     ]
    }
   ],
   "source": [
    "from sklearn.metrics import accuracy_score ,classification_report,confusion_matrix\n",
    "acc = accuracy_score(y_test, y_pred)\n",
    "print(classification_report(y_test,y_pred))"
   ]
  },
  {
   "cell_type": "code",
   "execution_count": 197,
   "metadata": {
    "nbpresent": {
     "id": "bf3cd785-7f5e-4ab7-a2af-18c319f1f261"
    }
   },
   "outputs": [
    {
     "data": {
      "text/plain": [
       "0.9871497584541062"
      ]
     },
     "execution_count": 197,
     "metadata": {},
     "output_type": "execute_result"
    }
   ],
   "source": [
    "from sklearn.cross_validation import cross_val_score\n",
    "scores = cross_val_score(model_xgbt, X_test, y_test, cv=10, scoring='accuracy')\n",
    "np.mean(scores)"
   ]
  },
  {
   "cell_type": "code",
   "execution_count": 198,
   "metadata": {
    "nbpresent": {
     "id": "e8b37068-e7c4-4be7-ae14-c033491afe8f"
    }
   },
   "outputs": [],
   "source": [
    "y_valid=test['tags']"
   ]
  },
  {
   "cell_type": "code",
   "execution_count": 199,
   "metadata": {
    "nbpresent": {
     "id": "e338f665-78b1-4d51-9915-4f36d9db905a"
    }
   },
   "outputs": [
    {
     "name": "stdout",
     "output_type": "stream",
     "text": [
      "Accuracy : 0.9836\n"
     ]
    }
   ],
   "source": [
    "y_true, y_pred = y_valid, model_xgbt.predict(testRktd)  \n",
    "print (\"Accuracy : %.4g\" % metrics.accuracy_score(y_true, y_pred)  )"
   ]
  },
  {
   "cell_type": "code",
   "execution_count": 200,
   "metadata": {},
   "outputs": [],
   "source": [
    "testbk=test"
   ]
  },
  {
   "cell_type": "code",
   "execution_count": 201,
   "metadata": {},
   "outputs": [],
   "source": [
    "test = test.drop(['tags','type','ClearText','tokenTextET'],axis=1)"
   ]
  },
  {
   "cell_type": "code",
   "execution_count": 202,
   "metadata": {},
   "outputs": [],
   "source": [
    "test['tags']=y_pred"
   ]
  },
  {
   "cell_type": "code",
   "execution_count": 203,
   "metadata": {},
   "outputs": [],
   "source": [
    "test.to_csv('HK01_Q3_XGboost2.csv', sep='\\t')"
   ]
  },
  {
   "cell_type": "code",
   "execution_count": 172,
   "metadata": {},
   "outputs": [
    {
     "data": {
      "text/html": [
       "<div>\n",
       "<style scoped>\n",
       "    .dataframe tbody tr th:only-of-type {\n",
       "        vertical-align: middle;\n",
       "    }\n",
       "\n",
       "    .dataframe tbody tr th {\n",
       "        vertical-align: top;\n",
       "    }\n",
       "\n",
       "    .dataframe thead th {\n",
       "        text-align: right;\n",
       "    }\n",
       "</style>\n",
       "<table border=\"1\" class=\"dataframe\">\n",
       "  <thead>\n",
       "    <tr style=\"text-align: right;\">\n",
       "      <th></th>\n",
       "      <th>id</th>\n",
       "      <th>text</th>\n",
       "      <th>tags</th>\n",
       "    </tr>\n",
       "  </thead>\n",
       "  <tbody>\n",
       "    <tr>\n",
       "      <th>0</th>\n",
       "      <td>6</td>\n",
       "      <td>南華添鋒力　簽前厄瓜多爾國腳保耶 港超勁旅南華宣布羅致前厄瓜多爾國腳菲力斯保耶（Felix ...</td>\n",
       "      <td>足球</td>\n",
       "    </tr>\n",
       "    <tr>\n",
       "      <th>1</th>\n",
       "      <td>128</td>\n",
       "      <td>如果大學$0捐款　科大嶺南將蝕過千萬元 據now新聞台報道，身兼8大校監的特首梁振英曾以大學...</td>\n",
       "      <td>梁振英</td>\n",
       "    </tr>\n",
       "    <tr>\n",
       "      <th>2</th>\n",
       "      <td>136</td>\n",
       "      <td>英超最強火力對碰　雙城爭冠靠鋒霸 英超今季風起雲湧，傳統「Big 5」只剩兩隊名列積分榜前5...</td>\n",
       "      <td>足球</td>\n",
       "    </tr>\n",
       "    <tr>\n",
       "      <th>3</th>\n",
       "      <td>213</td>\n",
       "      <td>【01球評】膺半程冠軍　阿仙奴今季不奪標更待何時？ 近年「兵工廠」每季的起落都離不開一個循環...</td>\n",
       "      <td>足球</td>\n",
       "    </tr>\n",
       "    <tr>\n",
       "      <th>4</th>\n",
       "      <td>658</td>\n",
       "      <td>【書商失蹤】梁振英：希望失蹤的李波本人提供資料 行政長官梁振英出席行政會議前見記者，被問及李...</td>\n",
       "      <td>梁振英</td>\n",
       "    </tr>\n",
       "    <tr>\n",
       "      <th>5</th>\n",
       "      <td>700</td>\n",
       "      <td>【施政盤點】三份施政報告　僅一半政策達標 行政長官梁振英即將公布任內第四份施政報告，《香港0...</td>\n",
       "      <td>梁振英</td>\n",
       "    </tr>\n",
       "    <tr>\n",
       "      <th>6</th>\n",
       "      <td>729</td>\n",
       "      <td>【施政盤點】「治港絕招」　設19委員會　空談多實務少 行政長官梁振英上任3年多，先後成立多個...</td>\n",
       "      <td>梁振英</td>\n",
       "    </tr>\n",
       "    <tr>\n",
       "      <th>7</th>\n",
       "      <td>837</td>\n",
       "      <td>高普首簽　「新馬迪」來季投紅軍 利物浦傷兵滿營及戰績不穩，主帥高普仍不忘投資未來，昨以510...</td>\n",
       "      <td>足球</td>\n",
       "    </tr>\n",
       "    <tr>\n",
       "      <th>8</th>\n",
       "      <td>1037</td>\n",
       "      <td>「最潮主帥」鬥利物浦：我已領先1：0 英乙球隊埃克塞特在明晨的足總盃於主場迎戰利物浦，雖然越...</td>\n",
       "      <td>足球</td>\n",
       "    </tr>\n",
       "    <tr>\n",
       "      <th>9</th>\n",
       "      <td>1095</td>\n",
       "      <td>紅軍超殘陣逼和英乙隊　高普：負擔不起重賽 逾十名球員受傷的利物浦，今晨在足總盃第三圈以大部份...</td>\n",
       "      <td>足球</td>\n",
       "    </tr>\n",
       "    <tr>\n",
       "      <th>10</th>\n",
       "      <td>1113</td>\n",
       "      <td>【施丹上馬】皇馬六條A　退下來各自精彩　僅卡路士教波 2003年碧咸轉投皇家馬德里，與施丹、...</td>\n",
       "      <td>足球</td>\n",
       "    </tr>\n",
       "    <tr>\n",
       "      <th>11</th>\n",
       "      <td>1153</td>\n",
       "      <td>【施丹上馬】踢而優則教　碧根鮑華告魯夫完美球王 足球史上，獲譽為球王的寥寥可數，踢而優則教的...</td>\n",
       "      <td>足球</td>\n",
       "    </tr>\n",
       "    <tr>\n",
       "      <th>12</th>\n",
       "      <td>1200</td>\n",
       "      <td>【01球評】施丹首戰　回歸原點抄足肥安　防守毛病未解決 所謂「新官上任三把火」，不過從皇家馬...</td>\n",
       "      <td>足球</td>\n",
       "    </tr>\n",
       "    <tr>\n",
       "      <th>13</th>\n",
       "      <td>1261</td>\n",
       "      <td>新兵白鶴對辦　東方大破南華踞榜首現霸氣 星期日下午的港超榜首大戰，東方在4130名觀眾面前盡...</td>\n",
       "      <td>足球</td>\n",
       "    </tr>\n",
       "    <tr>\n",
       "      <th>14</th>\n",
       "      <td>1332</td>\n",
       "      <td>【意甲半程總結】四軍混戰　拿玻里勢破祖記壟斷 兵多將廣　拿玻里攻上榜首\\n\\n\\n\\n&amp;nb...</td>\n",
       "      <td>足球</td>\n",
       "    </tr>\n",
       "    <tr>\n",
       "      <th>15</th>\n",
       "      <td>1374</td>\n",
       "      <td>【01球評】協同效應+品牌角力　美斯C朗壟斷金球獎 「美斯定C朗？」球迷間討論的問題，在明晨...</td>\n",
       "      <td>足球</td>\n",
       "    </tr>\n",
       "    <tr>\n",
       "      <th>16</th>\n",
       "      <td>1407</td>\n",
       "      <td>金球獎合併5年　首屆美斯得獎爭議最大 自國際足協在2010年把世界足球先生及《法國足球》的歐...</td>\n",
       "      <td>足球</td>\n",
       "    </tr>\n",
       "    <tr>\n",
       "      <th>17</th>\n",
       "      <td>1564</td>\n",
       "      <td>梁振英批司法覆核遭濫用　對政府代價大 現任終院首席法官馬道立日前強調，司法覆核維護公眾利益，...</td>\n",
       "      <td>梁振英</td>\n",
       "    </tr>\n",
       "    <tr>\n",
       "      <th>18</th>\n",
       "      <td>1643</td>\n",
       "      <td>【港大民調】支持度僅37%創新低　數據顯示董曾梁一蟹不如一蟹 特首梁振英昨日宣讀施政報告，香...</td>\n",
       "      <td>梁振英</td>\n",
       "    </tr>\n",
       "    <tr>\n",
       "      <th>19</th>\n",
       "      <td>1667</td>\n",
       "      <td>【獨家民調】梁治三年　市民最不滿政制司法　最滿意房屋規劃 今年的施政報告重點力推一帶一路經濟...</td>\n",
       "      <td>梁振英</td>\n",
       "    </tr>\n",
       "    <tr>\n",
       "      <th>20</th>\n",
       "      <td>1776</td>\n",
       "      <td>奧巴馬炮轟特朗普耍選戰手段　承認未能團結美國 美國總統奧巴馬在電視節目上，批評共和黨總統參選...</td>\n",
       "      <td>美國大選</td>\n",
       "    </tr>\n",
       "    <tr>\n",
       "      <th>21</th>\n",
       "      <td>1831</td>\n",
       "      <td>【施政報告】預留20億元成立創科創投基金 行政長官梁振英在新一份施政報告提到本港創新科技發展...</td>\n",
       "      <td>梁振英</td>\n",
       "    </tr>\n",
       "    <tr>\n",
       "      <th>22</th>\n",
       "      <td>2011</td>\n",
       "      <td>由象徵式政策到象徵式施政報告 師父教落，自我介紹中說出來的，通常都不重要，沒有說出來的才重要...</td>\n",
       "      <td>梁振英</td>\n",
       "    </tr>\n",
       "    <tr>\n",
       "      <th>23</th>\n",
       "      <td>2036</td>\n",
       "      <td>【施政報告】工聯會考慮不支持梁振英　梁連任夢添陰霾 行政長官梁振英發表任內第4份《施政報告》...</td>\n",
       "      <td>梁振英</td>\n",
       "    </tr>\n",
       "    <tr>\n",
       "      <th>24</th>\n",
       "      <td>2040</td>\n",
       "      <td>港美同日發表施政藍圖　梁振英奧巴馬4大看點 演說長度奧巴馬　58分44秒\\n\\n梁振英 &amp;n...</td>\n",
       "      <td>梁振英</td>\n",
       "    </tr>\n",
       "    <tr>\n",
       "      <th>25</th>\n",
       "      <td>2176</td>\n",
       "      <td>【獨家民調】青年人拒撐梁　無學生支持梁振英連任特首 梁振英昨日（13日）發表《施政報告》後，...</td>\n",
       "      <td>梁振英</td>\n",
       "    </tr>\n",
       "    <tr>\n",
       "      <th>26</th>\n",
       "      <td>2221</td>\n",
       "      <td>港中戰球迷噓國歌　FIFA再罰香港足總7.7萬 去年「11‧17」港中大戰餘波未了，國際足協...</td>\n",
       "      <td>足球</td>\n",
       "    </tr>\n",
       "    <tr>\n",
       "      <th>27</th>\n",
       "      <td>2254</td>\n",
       "      <td>【01拆局】曾俊華民望雖高　未獲左派認可　與泛民友好成雙刃劍 特首梁振英新一份施政報告劣評如...</td>\n",
       "      <td>梁振英</td>\n",
       "    </tr>\n",
       "    <tr>\n",
       "      <th>28</th>\n",
       "      <td>2287</td>\n",
       "      <td>【港足日與夜】從日與夜開始　了解五個香港足球員的故事 經歷去年世界盃外圍賽的熱潮，香港足球再...</td>\n",
       "      <td>足球</td>\n",
       "    </tr>\n",
       "    <tr>\n",
       "      <th>29</th>\n",
       "      <td>2327</td>\n",
       "      <td>【施政報告】梁振英：即使當年有普選我仍會當選 今年《施政報告》被指「區議會化」，及變成「一帶...</td>\n",
       "      <td>梁振英</td>\n",
       "    </tr>\n",
       "    <tr>\n",
       "      <th>...</th>\n",
       "      <td>...</td>\n",
       "      <td>...</td>\n",
       "      <td>...</td>\n",
       "    </tr>\n",
       "    <tr>\n",
       "      <th>170</th>\n",
       "      <td>14721</td>\n",
       "      <td>【英超爭霸】李城主席生日　今晚主場派啤酒甜甜圈 亞視成絕唱，但「Happy Birthday...</td>\n",
       "      <td>足球</td>\n",
       "    </tr>\n",
       "    <tr>\n",
       "      <th>171</th>\n",
       "      <td>14856</td>\n",
       "      <td>【意甲．有片】拉素打&lt;U+5421&gt;慘敗　主帥即落鑊改聘小恩沙基 一場敗仗，令拉素改頭換面。...</td>\n",
       "      <td>足球</td>\n",
       "    </tr>\n",
       "    <tr>\n",
       "      <th>172</th>\n",
       "      <td>14897</td>\n",
       "      <td>【法甲】戴亞比3年首正選　馬賽不敵巴斯蒂亞 還記得昔日效力阿仙奴的法國中場戴亞比（Abou ...</td>\n",
       "      <td>足球</td>\n",
       "    </tr>\n",
       "    <tr>\n",
       "      <th>173</th>\n",
       "      <td>14927</td>\n",
       "      <td>CY禮賓府教學生減廚餘　學生頻打呵欠捽眼 特首梁振英趁今日兒童節，邀請過百名中小學生、家長和...</td>\n",
       "      <td>梁振英</td>\n",
       "    </tr>\n",
       "    <tr>\n",
       "      <th>174</th>\n",
       "      <td>15155</td>\n",
       "      <td>【美國大選】特朗普不敵克魯茲或告急　桑德斯連贏六場 共和黨在威斯康辛州的初選，得勝者可全取4...</td>\n",
       "      <td>美國大選</td>\n",
       "    </tr>\n",
       "    <tr>\n",
       "      <th>175</th>\n",
       "      <td>15357</td>\n",
       "      <td>梁振英避回應幼女行李直入禁區　市民：安全檢查好重要 香港「第一家庭」被指涉嫌濫權。行政長官梁...</td>\n",
       "      <td>梁振英</td>\n",
       "    </tr>\n",
       "    <tr>\n",
       "      <th>176</th>\n",
       "      <td>15390</td>\n",
       "      <td>「梁特首」迴避機場濫權傳聞　見海南省長蒙古總理談一帶一路 特首梁振英昨日被爆曾施壓，要求機場...</td>\n",
       "      <td>梁振英</td>\n",
       "    </tr>\n",
       "    <tr>\n",
       "      <th>177</th>\n",
       "      <td>15482</td>\n",
       "      <td>為梁太發聲明公關Crystal　曾替馮煒光及梁振英打工 行政長官梁振英疑濫權為女兒梁頌昕直送...</td>\n",
       "      <td>梁振英</td>\n",
       "    </tr>\n",
       "    <tr>\n",
       "      <th>178</th>\n",
       "      <td>15540</td>\n",
       "      <td>衝出國際　梁特首涉機場濫權事件　BBC自由時報齊報道 特首梁振英被指因幼女遺留行李在禁區外，...</td>\n",
       "      <td>梁振英</td>\n",
       "    </tr>\n",
       "    <tr>\n",
       "      <th>179</th>\n",
       "      <td>15662</td>\n",
       "      <td>【歐國盃】韋舒亞復出矢志季尾上力　軒達臣難趕及決賽周 利物浦（Liverpool）主帥高普（...</td>\n",
       "      <td>足球</td>\n",
       "    </tr>\n",
       "    <tr>\n",
       "      <th>180</th>\n",
       "      <td>15737</td>\n",
       "      <td>【聯賽盃決賽】艾力士頭槌梅開二度　傑志3蛋贈南華5度捧盃 這個周末，全城皆為體育狂熱。除了大...</td>\n",
       "      <td>足球</td>\n",
       "    </tr>\n",
       "    <tr>\n",
       "      <th>181</th>\n",
       "      <td>15821</td>\n",
       "      <td>機場現「諸葛梁」橫額　諷梁振英：I CAN TAKE 行李 特首梁振英早前被揭要求機場職員親...</td>\n",
       "      <td>梁振英</td>\n",
       "    </tr>\n",
       "    <tr>\n",
       "      <th>182</th>\n",
       "      <td>15845</td>\n",
       "      <td>【七欖狂熱】梁振英fb撐港隊　1小時內收4500「嬲嬲」 在facebook發表一句「香港加...</td>\n",
       "      <td>梁振英</td>\n",
       "    </tr>\n",
       "    <tr>\n",
       "      <th>183</th>\n",
       "      <td>15938</td>\n",
       "      <td>【歐聯8強．互動】「天價爸爸」迪布尼誓破PSG創歷史 什麼叫身價波？身價5550萬鎊的奇雲迪...</td>\n",
       "      <td>足球</td>\n",
       "    </tr>\n",
       "    <tr>\n",
       "      <th>184</th>\n",
       "      <td>16013</td>\n",
       "      <td>【追蹤美大選】紐約初選鬥親民　吃薄餅搭地鐵也有學問 說到底，這些親民作風不可能只是一時之間的...</td>\n",
       "      <td>美國大選</td>\n",
       "    </tr>\n",
       "    <tr>\n",
       "      <th>185</th>\n",
       "      <td>16036</td>\n",
       "      <td>梁振英再否定港獨　避回應陳章明誠信危機 香港民族黨成立後，即引來建制派和內地官媒口誅筆伐；由...</td>\n",
       "      <td>梁振英</td>\n",
       "    </tr>\n",
       "    <tr>\n",
       "      <th>186</th>\n",
       "      <td>16041</td>\n",
       "      <td>【叫我梁特首】「行李門」醜聞為何讓CY連任重挫 今次事件，整個機管局可謂被拿來「陪葬」…這會...</td>\n",
       "      <td>梁振英</td>\n",
       "    </tr>\n",
       "    <tr>\n",
       "      <th>187</th>\n",
       "      <td>16053</td>\n",
       "      <td>中大校董會本周商主席人選　料梁乃鵬呼聲最高 特區政府年初在大量反對聲音下，仍然委任行政會議成...</td>\n",
       "      <td>梁振英</td>\n",
       "    </tr>\n",
       "    <tr>\n",
       "      <th>188</th>\n",
       "      <td>16082</td>\n",
       "      <td>李斯特城5月訪港　出戰港會七人足球賽 體育盛事一浪接一浪，香港國際七人欖球賽剛於周末圓滿完結...</td>\n",
       "      <td>足球</td>\n",
       "    </tr>\n",
       "    <tr>\n",
       "      <th>189</th>\n",
       "      <td>16241</td>\n",
       "      <td>陳文敏撰文：梁振英縱容子女漠視法紀　如何能治理好社會？ 特首梁振英昨日（周二）回應女兒梁頌昕...</td>\n",
       "      <td>梁振英</td>\n",
       "    </tr>\n",
       "    <tr>\n",
       "      <th>190</th>\n",
       "      <td>16451</td>\n",
       "      <td>【梁家鬧機場】空總接機大堂集會促正視航空安全　強調非佔領機場 總幹事吳敏兒指，當日的集會下午...</td>\n",
       "      <td>梁振英</td>\n",
       "    </tr>\n",
       "    <tr>\n",
       "      <th>191</th>\n",
       "      <td>16571</td>\n",
       "      <td>【足球趣聞．有片】C朗父子12碼矛盾對決　小C朗笠死爸爸 基斯坦奴朗拿度（C朗拿度）為了培養...</td>\n",
       "      <td>足球</td>\n",
       "    </tr>\n",
       "    <tr>\n",
       "      <th>192</th>\n",
       "      <td>16665</td>\n",
       "      <td>【英冠】「窮富翁」白禮頓踏實　為升英超誓與「真富豪」爭崩頭 小球會掙扎求存的故事，在英格蘭不...</td>\n",
       "      <td>足球</td>\n",
       "    </tr>\n",
       "    <tr>\n",
       "      <th>193</th>\n",
       "      <td>16710</td>\n",
       "      <td>【有片】孫明揚：傘運促成民主醒覺　香港沒條件談港獨自決 特首梁振英治下的香港，政治氣氛劍拔弩...</td>\n",
       "      <td>梁振英</td>\n",
       "    </tr>\n",
       "    <tr>\n",
       "      <th>194</th>\n",
       "      <td>16926</td>\n",
       "      <td>【英超爭霸】禾確特長居阿仙奴後備有離心　今夏勢他投 自今年一月尾以來，阿仙奴前鋒禾確特只曾獲...</td>\n",
       "      <td>足球</td>\n",
       "    </tr>\n",
       "    <tr>\n",
       "      <th>195</th>\n",
       "      <td>16950</td>\n",
       "      <td>【英超爭霸．互動】華迪爭議被逐　李斯特城補時逼和韋斯咸 英超榜首的李斯特城今日（4月17日）...</td>\n",
       "      <td>足球</td>\n",
       "    </tr>\n",
       "    <tr>\n",
       "      <th>196</th>\n",
       "      <td>16996</td>\n",
       "      <td>【英超爭霸．互動】熱刺力追李斯特城　征史篤城盼改爭冠劇本 隨&lt;U+7740&gt;阿仙奴主場被水晶...</td>\n",
       "      <td>足球</td>\n",
       "    </tr>\n",
       "    <tr>\n",
       "      <th>197</th>\n",
       "      <td>17187</td>\n",
       "      <td>【黃毓民掟杯案．記者手記】梁振英作供　面上從容雙手握緊 梁振英成為本港回歸19年來，首位要出...</td>\n",
       "      <td>梁振英</td>\n",
       "    </tr>\n",
       "    <tr>\n",
       "      <th>198</th>\n",
       "      <td>17199</td>\n",
       "      <td>機場前資深員工fb炮轟梁特：代運行李聞所未聞 公開批評梁振英濫權的Lawrence Cheu...</td>\n",
       "      <td>梁振英</td>\n",
       "    </tr>\n",
       "    <tr>\n",
       "      <th>199</th>\n",
       "      <td>17325</td>\n",
       "      <td>【01球評．西甲互動】巴塞若要反彈　請把美斯放在後備席 李斯特城一邊在英格蘭創造奇蹟，震驚球...</td>\n",
       "      <td>足球</td>\n",
       "    </tr>\n",
       "  </tbody>\n",
       "</table>\n",
       "<p>200 rows × 3 columns</p>\n",
       "</div>"
      ],
      "text/plain": [
       "        id                                               text  tags\n",
       "0        6  南華添鋒力　簽前厄瓜多爾國腳保耶 港超勁旅南華宣布羅致前厄瓜多爾國腳菲力斯保耶（Felix ...    足球\n",
       "1      128  如果大學$0捐款　科大嶺南將蝕過千萬元 據now新聞台報道，身兼8大校監的特首梁振英曾以大學...   梁振英\n",
       "2      136  英超最強火力對碰　雙城爭冠靠鋒霸 英超今季風起雲湧，傳統「Big 5」只剩兩隊名列積分榜前5...    足球\n",
       "3      213  【01球評】膺半程冠軍　阿仙奴今季不奪標更待何時？ 近年「兵工廠」每季的起落都離不開一個循環...    足球\n",
       "4      658  【書商失蹤】梁振英：希望失蹤的李波本人提供資料 行政長官梁振英出席行政會議前見記者，被問及李...   梁振英\n",
       "5      700  【施政盤點】三份施政報告　僅一半政策達標 行政長官梁振英即將公布任內第四份施政報告，《香港0...   梁振英\n",
       "6      729  【施政盤點】「治港絕招」　設19委員會　空談多實務少 行政長官梁振英上任3年多，先後成立多個...   梁振英\n",
       "7      837  高普首簽　「新馬迪」來季投紅軍 利物浦傷兵滿營及戰績不穩，主帥高普仍不忘投資未來，昨以510...    足球\n",
       "8     1037  「最潮主帥」鬥利物浦：我已領先1：0 英乙球隊埃克塞特在明晨的足總盃於主場迎戰利物浦，雖然越...    足球\n",
       "9     1095  紅軍超殘陣逼和英乙隊　高普：負擔不起重賽 逾十名球員受傷的利物浦，今晨在足總盃第三圈以大部份...    足球\n",
       "10    1113  【施丹上馬】皇馬六條A　退下來各自精彩　僅卡路士教波 2003年碧咸轉投皇家馬德里，與施丹、...    足球\n",
       "11    1153  【施丹上馬】踢而優則教　碧根鮑華告魯夫完美球王 足球史上，獲譽為球王的寥寥可數，踢而優則教的...    足球\n",
       "12    1200  【01球評】施丹首戰　回歸原點抄足肥安　防守毛病未解決 所謂「新官上任三把火」，不過從皇家馬...    足球\n",
       "13    1261  新兵白鶴對辦　東方大破南華踞榜首現霸氣 星期日下午的港超榜首大戰，東方在4130名觀眾面前盡...    足球\n",
       "14    1332  【意甲半程總結】四軍混戰　拿玻里勢破祖記壟斷 兵多將廣　拿玻里攻上榜首\\n\\n\\n\\n&nb...    足球\n",
       "15    1374  【01球評】協同效應+品牌角力　美斯C朗壟斷金球獎 「美斯定C朗？」球迷間討論的問題，在明晨...    足球\n",
       "16    1407  金球獎合併5年　首屆美斯得獎爭議最大 自國際足協在2010年把世界足球先生及《法國足球》的歐...    足球\n",
       "17    1564  梁振英批司法覆核遭濫用　對政府代價大 現任終院首席法官馬道立日前強調，司法覆核維護公眾利益，...   梁振英\n",
       "18    1643  【港大民調】支持度僅37%創新低　數據顯示董曾梁一蟹不如一蟹 特首梁振英昨日宣讀施政報告，香...   梁振英\n",
       "19    1667  【獨家民調】梁治三年　市民最不滿政制司法　最滿意房屋規劃 今年的施政報告重點力推一帶一路經濟...   梁振英\n",
       "20    1776  奧巴馬炮轟特朗普耍選戰手段　承認未能團結美國 美國總統奧巴馬在電視節目上，批評共和黨總統參選...  美國大選\n",
       "21    1831  【施政報告】預留20億元成立創科創投基金 行政長官梁振英在新一份施政報告提到本港創新科技發展...   梁振英\n",
       "22    2011  由象徵式政策到象徵式施政報告 師父教落，自我介紹中說出來的，通常都不重要，沒有說出來的才重要...   梁振英\n",
       "23    2036  【施政報告】工聯會考慮不支持梁振英　梁連任夢添陰霾 行政長官梁振英發表任內第4份《施政報告》...   梁振英\n",
       "24    2040  港美同日發表施政藍圖　梁振英奧巴馬4大看點 演說長度奧巴馬　58分44秒\\n\\n梁振英 &n...   梁振英\n",
       "25    2176  【獨家民調】青年人拒撐梁　無學生支持梁振英連任特首 梁振英昨日（13日）發表《施政報告》後，...   梁振英\n",
       "26    2221  港中戰球迷噓國歌　FIFA再罰香港足總7.7萬 去年「11‧17」港中大戰餘波未了，國際足協...    足球\n",
       "27    2254  【01拆局】曾俊華民望雖高　未獲左派認可　與泛民友好成雙刃劍 特首梁振英新一份施政報告劣評如...   梁振英\n",
       "28    2287  【港足日與夜】從日與夜開始　了解五個香港足球員的故事 經歷去年世界盃外圍賽的熱潮，香港足球再...    足球\n",
       "29    2327  【施政報告】梁振英：即使當年有普選我仍會當選 今年《施政報告》被指「區議會化」，及變成「一帶...   梁振英\n",
       "..     ...                                                ...   ...\n",
       "170  14721  【英超爭霸】李城主席生日　今晚主場派啤酒甜甜圈 亞視成絕唱，但「Happy Birthday...    足球\n",
       "171  14856  【意甲．有片】拉素打<U+5421>慘敗　主帥即落鑊改聘小恩沙基 一場敗仗，令拉素改頭換面。...    足球\n",
       "172  14897  【法甲】戴亞比3年首正選　馬賽不敵巴斯蒂亞 還記得昔日效力阿仙奴的法國中場戴亞比（Abou ...    足球\n",
       "173  14927  CY禮賓府教學生減廚餘　學生頻打呵欠捽眼 特首梁振英趁今日兒童節，邀請過百名中小學生、家長和...   梁振英\n",
       "174  15155  【美國大選】特朗普不敵克魯茲或告急　桑德斯連贏六場 共和黨在威斯康辛州的初選，得勝者可全取4...  美國大選\n",
       "175  15357  梁振英避回應幼女行李直入禁區　市民：安全檢查好重要 香港「第一家庭」被指涉嫌濫權。行政長官梁...   梁振英\n",
       "176  15390  「梁特首」迴避機場濫權傳聞　見海南省長蒙古總理談一帶一路 特首梁振英昨日被爆曾施壓，要求機場...   梁振英\n",
       "177  15482  為梁太發聲明公關Crystal　曾替馮煒光及梁振英打工 行政長官梁振英疑濫權為女兒梁頌昕直送...   梁振英\n",
       "178  15540  衝出國際　梁特首涉機場濫權事件　BBC自由時報齊報道 特首梁振英被指因幼女遺留行李在禁區外，...   梁振英\n",
       "179  15662  【歐國盃】韋舒亞復出矢志季尾上力　軒達臣難趕及決賽周 利物浦（Liverpool）主帥高普（...    足球\n",
       "180  15737  【聯賽盃決賽】艾力士頭槌梅開二度　傑志3蛋贈南華5度捧盃 這個周末，全城皆為體育狂熱。除了大...    足球\n",
       "181  15821  機場現「諸葛梁」橫額　諷梁振英：I CAN TAKE 行李 特首梁振英早前被揭要求機場職員親...   梁振英\n",
       "182  15845  【七欖狂熱】梁振英fb撐港隊　1小時內收4500「嬲嬲」 在facebook發表一句「香港加...   梁振英\n",
       "183  15938  【歐聯8強．互動】「天價爸爸」迪布尼誓破PSG創歷史 什麼叫身價波？身價5550萬鎊的奇雲迪...    足球\n",
       "184  16013  【追蹤美大選】紐約初選鬥親民　吃薄餅搭地鐵也有學問 說到底，這些親民作風不可能只是一時之間的...  美國大選\n",
       "185  16036  梁振英再否定港獨　避回應陳章明誠信危機 香港民族黨成立後，即引來建制派和內地官媒口誅筆伐；由...   梁振英\n",
       "186  16041  【叫我梁特首】「行李門」醜聞為何讓CY連任重挫 今次事件，整個機管局可謂被拿來「陪葬」…這會...   梁振英\n",
       "187  16053  中大校董會本周商主席人選　料梁乃鵬呼聲最高 特區政府年初在大量反對聲音下，仍然委任行政會議成...   梁振英\n",
       "188  16082  李斯特城5月訪港　出戰港會七人足球賽 體育盛事一浪接一浪，香港國際七人欖球賽剛於周末圓滿完結...    足球\n",
       "189  16241  陳文敏撰文：梁振英縱容子女漠視法紀　如何能治理好社會？ 特首梁振英昨日（周二）回應女兒梁頌昕...   梁振英\n",
       "190  16451  【梁家鬧機場】空總接機大堂集會促正視航空安全　強調非佔領機場 總幹事吳敏兒指，當日的集會下午...   梁振英\n",
       "191  16571  【足球趣聞．有片】C朗父子12碼矛盾對決　小C朗笠死爸爸 基斯坦奴朗拿度（C朗拿度）為了培養...    足球\n",
       "192  16665  【英冠】「窮富翁」白禮頓踏實　為升英超誓與「真富豪」爭崩頭 小球會掙扎求存的故事，在英格蘭不...    足球\n",
       "193  16710  【有片】孫明揚：傘運促成民主醒覺　香港沒條件談港獨自決 特首梁振英治下的香港，政治氣氛劍拔弩...   梁振英\n",
       "194  16926  【英超爭霸】禾確特長居阿仙奴後備有離心　今夏勢他投 自今年一月尾以來，阿仙奴前鋒禾確特只曾獲...    足球\n",
       "195  16950  【英超爭霸．互動】華迪爭議被逐　李斯特城補時逼和韋斯咸 英超榜首的李斯特城今日（4月17日）...    足球\n",
       "196  16996  【英超爭霸．互動】熱刺力追李斯特城　征史篤城盼改爭冠劇本 隨<U+7740>阿仙奴主場被水晶...    足球\n",
       "197  17187  【黃毓民掟杯案．記者手記】梁振英作供　面上從容雙手握緊 梁振英成為本港回歸19年來，首位要出...   梁振英\n",
       "198  17199  機場前資深員工fb炮轟梁特：代運行李聞所未聞 公開批評梁振英濫權的Lawrence Cheu...   梁振英\n",
       "199  17325  【01球評．西甲互動】巴塞若要反彈　請把美斯放在後備席 李斯特城一邊在英格蘭創造奇蹟，震驚球...    足球\n",
       "\n",
       "[200 rows x 3 columns]"
      ]
     },
     "execution_count": 172,
     "metadata": {},
     "output_type": "execute_result"
    }
   ],
   "source": [
    "test.head(200)"
   ]
  },
  {
   "cell_type": "markdown",
   "metadata": {
    "nbpresent": {
     "id": "ae01bee2-7bdd-4df6-9cc6-6ff2a77d5684"
    }
   },
   "source": [
    "### XGBoost Training for jieba textrank -dataRktr and testRktr"
   ]
  },
  {
   "cell_type": "code",
   "execution_count": 63,
   "metadata": {
    "nbpresent": {
     "id": "0de9a177-2fb3-4b7d-b6e7-062fb611508c"
    }
   },
   "outputs": [
    {
     "data": {
      "text/plain": [
       "XGBClassifier(base_score=0.5, colsample_bylevel=1, colsample_bytree=0.9,\n",
       "       gamma=0.75, learning_rate=0.2, max_delta_step=0, max_depth=11,\n",
       "       min_child_weight=14, missing=None, n_estimators=100, nthread=-1,\n",
       "       objective='multi:softprob', reg_alpha=0, reg_lambda=1,\n",
       "       scale_pos_weight=1, seed=1234, silent=True, subsample=0.8)"
      ]
     },
     "execution_count": 63,
     "metadata": {},
     "output_type": "execute_result"
    }
   ],
   "source": [
    "#X_train, X_test, y_train, y_test = train_test_split(dataRktr, Y_train, test_size=0.3)\n",
    "#model_xgbt.fit(X_train,y_train,eval_metric='auc')   "
   ]
  },
  {
   "cell_type": "code",
   "execution_count": 64,
   "metadata": {
    "nbpresent": {
     "id": "5e98f7ee-7874-40e2-b6a6-a11c57747d9a"
    }
   },
   "outputs": [
    {
     "name": "stdout",
     "output_type": "stream",
     "text": [
      "Accuracy : 0.982\n"
     ]
    }
   ],
   "source": [
    "#y_true, y_pred = y_test, model_xgbt.predict(X_test)  \n",
    "#print (\"Accuracy : %.4g\" % metrics.accuracy_score(y_true, y_pred)  )"
   ]
  },
  {
   "cell_type": "code",
   "execution_count": 65,
   "metadata": {
    "nbpresent": {
     "id": "05f0f6d6-a34d-424d-b05e-67bb62c06ee0"
    }
   },
   "outputs": [
    {
     "name": "stdout",
     "output_type": "stream",
     "text": [
      "Accuracy : 0.5246\n"
     ]
    }
   ],
   "source": [
    "#y_true, y_pred = y_valid, model_xgbt.predict(testRktd)  \n",
    "#print (\"Accuracy : %.4g\" % metrics.accuracy_score(y_true, y_pred)  )"
   ]
  },
  {
   "cell_type": "markdown",
   "metadata": {
    "nbpresent": {
     "id": "ed0db553-9e57-4667-8923-497c1bf2c01c"
    }
   },
   "source": [
    "### Conclusion"
   ]
  },
  {
   "cell_type": "markdown",
   "metadata": {
    "nbpresent": {
     "id": "5598f70c-f288-4c05-9e6e-6b55a2e53d5f"
    }
   },
   "source": [
    "#### Xgboost with  jieba.analyse.extract_tags for tagging seems better than TextRank \n",
    "#### Alternative, search parameter with gaussian optimization would be another option"
   ]
  }
 ],
 "metadata": {
  "kernelspec": {
   "display_name": "Python [conda env:anaconda3]",
   "language": "python",
   "name": "conda-env-anaconda3-py"
  },
  "language_info": {
   "codemirror_mode": {
    "name": "ipython",
    "version": 3
   },
   "file_extension": ".py",
   "mimetype": "text/x-python",
   "name": "python",
   "nbconvert_exporter": "python",
   "pygments_lexer": "ipython3",
   "version": "3.5.5"
  }
 },
 "nbformat": 4,
 "nbformat_minor": 2
}
